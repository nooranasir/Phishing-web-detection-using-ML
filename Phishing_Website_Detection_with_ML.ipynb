{
  "nbformat": 4,
  "nbformat_minor": 0,
  "metadata": {
    "colab": {
      "provenance": []
    },
    "kernelspec": {
      "name": "python3",
      "display_name": "Python 3"
    },
    "language_info": {
      "name": "python"
    }
  },
  "cells": [
    {
      "cell_type": "code",
      "execution_count": 1,
      "metadata": {
        "colab": {
          "base_uri": "https://localhost:8080/"
        },
        "id": "qzj_PB8ZgmO5",
        "outputId": "c45e2449-ebb4-49e1-a491-c3903debac29"
      },
      "outputs": [
        {
          "output_type": "stream",
          "name": "stdout",
          "text": [
            "Requirement already satisfied: pandas in /usr/local/lib/python3.12/dist-packages (2.2.2)\n",
            "Requirement already satisfied: scikit-learn in /usr/local/lib/python3.12/dist-packages (1.6.1)\n",
            "Requirement already satisfied: matplotlib in /usr/local/lib/python3.12/dist-packages (3.10.0)\n",
            "Requirement already satisfied: seaborn in /usr/local/lib/python3.12/dist-packages (0.13.2)\n",
            "Requirement already satisfied: numpy>=1.26.0 in /usr/local/lib/python3.12/dist-packages (from pandas) (2.0.2)\n",
            "Requirement already satisfied: python-dateutil>=2.8.2 in /usr/local/lib/python3.12/dist-packages (from pandas) (2.9.0.post0)\n",
            "Requirement already satisfied: pytz>=2020.1 in /usr/local/lib/python3.12/dist-packages (from pandas) (2025.2)\n",
            "Requirement already satisfied: tzdata>=2022.7 in /usr/local/lib/python3.12/dist-packages (from pandas) (2025.2)\n",
            "Requirement already satisfied: scipy>=1.6.0 in /usr/local/lib/python3.12/dist-packages (from scikit-learn) (1.16.1)\n",
            "Requirement already satisfied: joblib>=1.2.0 in /usr/local/lib/python3.12/dist-packages (from scikit-learn) (1.5.1)\n",
            "Requirement already satisfied: threadpoolctl>=3.1.0 in /usr/local/lib/python3.12/dist-packages (from scikit-learn) (3.6.0)\n",
            "Requirement already satisfied: contourpy>=1.0.1 in /usr/local/lib/python3.12/dist-packages (from matplotlib) (1.3.3)\n",
            "Requirement already satisfied: cycler>=0.10 in /usr/local/lib/python3.12/dist-packages (from matplotlib) (0.12.1)\n",
            "Requirement already satisfied: fonttools>=4.22.0 in /usr/local/lib/python3.12/dist-packages (from matplotlib) (4.59.1)\n",
            "Requirement already satisfied: kiwisolver>=1.3.1 in /usr/local/lib/python3.12/dist-packages (from matplotlib) (1.4.9)\n",
            "Requirement already satisfied: packaging>=20.0 in /usr/local/lib/python3.12/dist-packages (from matplotlib) (25.0)\n",
            "Requirement already satisfied: pillow>=8 in /usr/local/lib/python3.12/dist-packages (from matplotlib) (11.3.0)\n",
            "Requirement already satisfied: pyparsing>=2.3.1 in /usr/local/lib/python3.12/dist-packages (from matplotlib) (3.2.3)\n",
            "Requirement already satisfied: six>=1.5 in /usr/local/lib/python3.12/dist-packages (from python-dateutil>=2.8.2->pandas) (1.17.0)\n"
          ]
        }
      ],
      "source": [
        "# Install required libraries (if needed)\n",
        "!pip install pandas scikit-learn matplotlib seaborn\n",
        "\n",
        "# Import\n",
        "import pandas as pd\n",
        "import numpy as np\n",
        "import matplotlib.pyplot as plt\n",
        "import seaborn as sns\n",
        "from sklearn.model_selection import train_test_split\n",
        "from sklearn.ensemble import RandomForestClassifier\n",
        "from sklearn.linear_model import LogisticRegression\n",
        "from sklearn.metrics import classification_report, confusion_matrix, accuracy_score\n"
      ]
    },
    {
      "cell_type": "code",
      "source": [
        "# Load dataset\n",
        "df = pd.read_csv(\"/content/5.urldata.csv\")   # change name if needed\n",
        "\n",
        "# Show first rows\n",
        "print(df.head())\n",
        "print(df.info())\n"
      ],
      "metadata": {
        "colab": {
          "base_uri": "https://localhost:8080/"
        },
        "id": "yInToiCdgwjn",
        "outputId": "e98e97c6-893a-44a9-ed46-8b29d7419158"
      },
      "execution_count": 3,
      "outputs": [
        {
          "output_type": "stream",
          "name": "stdout",
          "text": [
            "             Domain  Have_IP  Have_At  URL_Length  URL_Depth  Redirection  \\\n",
            "0  graphicriver.net        0        0           1          1            0   \n",
            "1         ecnavi.jp        0        0           1          1            1   \n",
            "2      hubpages.com        0        0           1          1            0   \n",
            "3   extratorrent.cc        0        0           1          3            0   \n",
            "4     icicibank.com        0        0           1          3            0   \n",
            "\n",
            "   https_Domain  TinyURL  Prefix/Suffix  DNS_Record  Web_Traffic  Domain_Age  \\\n",
            "0             0        0              0           0            1           1   \n",
            "1             0        0              0           0            1           1   \n",
            "2             0        0              0           0            1           0   \n",
            "3             0        0              0           0            1           0   \n",
            "4             0        0              0           0            1           0   \n",
            "\n",
            "   Domain_End  iFrame  Mouse_Over  Right_Click  Web_Forwards  Label  \n",
            "0           1       0           0            1             0      0  \n",
            "1           1       0           0            1             0      0  \n",
            "2           1       0           0            1             0      0  \n",
            "3           1       0           0            1             0      0  \n",
            "4           1       0           0            1             0      0  \n",
            "<class 'pandas.core.frame.DataFrame'>\n",
            "RangeIndex: 10000 entries, 0 to 9999\n",
            "Data columns (total 18 columns):\n",
            " #   Column         Non-Null Count  Dtype \n",
            "---  ------         --------------  ----- \n",
            " 0   Domain         10000 non-null  object\n",
            " 1   Have_IP        10000 non-null  int64 \n",
            " 2   Have_At        10000 non-null  int64 \n",
            " 3   URL_Length     10000 non-null  int64 \n",
            " 4   URL_Depth      10000 non-null  int64 \n",
            " 5   Redirection    10000 non-null  int64 \n",
            " 6   https_Domain   10000 non-null  int64 \n",
            " 7   TinyURL        10000 non-null  int64 \n",
            " 8   Prefix/Suffix  10000 non-null  int64 \n",
            " 9   DNS_Record     10000 non-null  int64 \n",
            " 10  Web_Traffic    10000 non-null  int64 \n",
            " 11  Domain_Age     10000 non-null  int64 \n",
            " 12  Domain_End     10000 non-null  int64 \n",
            " 13  iFrame         10000 non-null  int64 \n",
            " 14  Mouse_Over     10000 non-null  int64 \n",
            " 15  Right_Click    10000 non-null  int64 \n",
            " 16  Web_Forwards   10000 non-null  int64 \n",
            " 17  Label          10000 non-null  int64 \n",
            "dtypes: int64(17), object(1)\n",
            "memory usage: 1.4+ MB\n",
            "None\n"
          ]
        }
      ]
    },
    {
      "cell_type": "code",
      "source": [
        "# Check null values\n",
        "print(df.isnull().sum())\n",
        "\n",
        "# Features & Target\n",
        "X = df.drop(\"Label\", axis=1)   # 'Label' column = phishing (1) or safe (-1)\n",
        "y = df[\"Label\"]\n",
        "\n",
        "# Train-test split\n",
        "X_train, X_test, y_train, y_test = train_test_split(X, y, test_size=0.2, random_state=42)"
      ],
      "metadata": {
        "colab": {
          "base_uri": "https://localhost:8080/"
        },
        "id": "HGTBqkGSij1v",
        "outputId": "4a25a2eb-8a3b-447f-fb3f-c9898cec1ae1"
      },
      "execution_count": 4,
      "outputs": [
        {
          "output_type": "stream",
          "name": "stdout",
          "text": [
            "Domain           0\n",
            "Have_IP          0\n",
            "Have_At          0\n",
            "URL_Length       0\n",
            "URL_Depth        0\n",
            "Redirection      0\n",
            "https_Domain     0\n",
            "TinyURL          0\n",
            "Prefix/Suffix    0\n",
            "DNS_Record       0\n",
            "Web_Traffic      0\n",
            "Domain_Age       0\n",
            "Domain_End       0\n",
            "iFrame           0\n",
            "Mouse_Over       0\n",
            "Right_Click      0\n",
            "Web_Forwards     0\n",
            "Label            0\n",
            "dtype: int64\n"
          ]
        }
      ]
    },
    {
      "cell_type": "code",
      "source": [
        "# Logistic Regression\n",
        "lr = LogisticRegression(max_iter=1000)\n",
        "lr.fit(X_train.drop('Domain', axis=1), y_train)\n",
        "y_pred_lr = lr.predict(X_test.drop('Domain', axis=1))\n",
        "\n",
        "# Random Forest\n",
        "rf = RandomForestClassifier(n_estimators=100, random_state=42)\n",
        "rf.fit(X_train.drop('Domain', axis=1), y_train)\n",
        "y_pred_rf = rf.predict(X_test.drop('Domain', axis=1))"
      ],
      "metadata": {
        "id": "hscn8mafiwP8"
      },
      "execution_count": 5,
      "outputs": []
    },
    {
      "cell_type": "code",
      "source": [
        "print(\"Logistic Regression Accuracy:\", accuracy_score(y_test, y_pred_lr))\n",
        "print(\"Random Forest Accuracy:\", accuracy_score(y_test, y_pred_rf))\n",
        "\n",
        "print(\"\\nLogistic Regression Report:\\n\", classification_report(y_test, y_pred_lr))\n",
        "print(\"\\nRandom Forest Report:\\n\", classification_report(y_test, y_pred_rf))\n",
        "\n",
        "# Confusion Matrix Visualization\n",
        "sns.heatmap(confusion_matrix(y_test, y_pred_rf), annot=True, fmt=\"d\", cmap=\"Blues\")\n",
        "plt.title(\"Confusion Matrix - Random Forest\")\n",
        "plt.show()\n"
      ],
      "metadata": {
        "colab": {
          "base_uri": "https://localhost:8080/",
          "height": 869
        },
        "id": "cS3ysEf0i6IU",
        "outputId": "c22547b8-6d02-417f-8e7f-17ecef292ddc"
      },
      "execution_count": 6,
      "outputs": [
        {
          "output_type": "stream",
          "name": "stdout",
          "text": [
            "Logistic Regression Accuracy: 0.7925\n",
            "Random Forest Accuracy: 0.858\n",
            "\n",
            "Logistic Regression Report:\n",
            "               precision    recall  f1-score   support\n",
            "\n",
            "           0       0.73      0.94      0.82      1012\n",
            "           1       0.92      0.64      0.75       988\n",
            "\n",
            "    accuracy                           0.79      2000\n",
            "   macro avg       0.82      0.79      0.79      2000\n",
            "weighted avg       0.82      0.79      0.79      2000\n",
            "\n",
            "\n",
            "Random Forest Report:\n",
            "               precision    recall  f1-score   support\n",
            "\n",
            "           0       0.79      0.97      0.87      1012\n",
            "           1       0.96      0.74      0.84       988\n",
            "\n",
            "    accuracy                           0.86      2000\n",
            "   macro avg       0.88      0.86      0.86      2000\n",
            "weighted avg       0.88      0.86      0.86      2000\n",
            "\n"
          ]
        },
        {
          "output_type": "display_data",
          "data": {
            "text/plain": [
              "<Figure size 640x480 with 2 Axes>"
            ],
            "image/png": "[encoded data removed]"
          },
          "metadata": {}
        }
      ]
    },
    {
      "cell_type": "code",
      "source": [
        "!pip install streamlit joblib pyngrok\n"
      ],
      "metadata": {
        "colab": {
          "base_uri": "https://localhost:8080/"
        },
        "id": "IZyWGIQPxENj",
        "outputId": "7805e35b-ef82-46de-d5ef-66175c961511"
      },
      "execution_count": 7,
      "outputs": [
        {
          "output_type": "stream",
          "name": "stdout",
          "text": [
            "Collecting streamlit\n",
            "  Downloading streamlit-1.49.1-py3-none-any.whl.metadata (9.5 kB)\n",
            "Requirement already satisfied: joblib in /usr/local/lib/python3.12/dist-packages (1.5.1)\n",
            "Collecting pyngrok\n",
            "  Downloading pyngrok-7.3.0-py3-none-any.whl.metadata (8.1 kB)\n",
            "Requirement already satisfied: altair!=5.4.0,!=5.4.1,<6,>=4.0 in /usr/local/lib/python3.12/dist-packages (from streamlit) (5.5.0)\n",
            "Requirement already satisfied: blinker<2,>=1.5.0 in /usr/local/lib/python3.12/dist-packages (from streamlit) (1.9.0)\n",
            "Requirement already satisfied: cachetools<7,>=4.0 in /usr/local/lib/python3.12/dist-packages (from streamlit) (5.5.2)\n",
            "Requirement already satisfied: click<9,>=7.0 in /usr/local/lib/python3.12/dist-packages (from streamlit) (8.2.1)\n",
            "Requirement already satisfied: numpy<3,>=1.23 in /usr/local/lib/python3.12/dist-packages (from streamlit) (2.0.2)\n",
            "Requirement already satisfied: packaging<26,>=20 in /usr/local/lib/python3.12/dist-packages (from streamlit) (25.0)\n",
            "Requirement already satisfied: pandas<3,>=1.4.0 in /usr/local/lib/python3.12/dist-packages (from streamlit) (2.2.2)\n",
            "Requirement already satisfied: pillow<12,>=7.1.0 in /usr/local/lib/python3.12/dist-packages (from streamlit) (11.3.0)\n",
            "Requirement already satisfied: protobuf<7,>=3.20 in /usr/local/lib/python3.12/dist-packages (from streamlit) (5.29.5)\n",
            "Requirement already satisfied: pyarrow>=7.0 in /usr/local/lib/python3.12/dist-packages (from streamlit) (18.1.0)\n",
            "Requirement already satisfied: requests<3,>=2.27 in /usr/local/lib/python3.12/dist-packages (from streamlit) (2.32.4)\n",
            "Requirement already satisfied: tenacity<10,>=8.1.0 in /usr/local/lib/python3.12/dist-packages (from streamlit) (8.5.0)\n",
            "Requirement already satisfied: toml<2,>=0.10.1 in /usr/local/lib/python3.12/dist-packages (from streamlit) (0.10.2)\n",
            "Requirement already satisfied: typing-extensions<5,>=4.4.0 in /usr/local/lib/python3.12/dist-packages (from streamlit) (4.15.0)\n",
            "Requirement already satisfied: watchdog<7,>=2.1.5 in /usr/local/lib/python3.12/dist-packages (from streamlit) (6.0.0)\n",
            "Requirement already satisfied: gitpython!=3.1.19,<4,>=3.0.7 in /usr/local/lib/python3.12/dist-packages (from streamlit) (3.1.45)\n",
            "Collecting pydeck<1,>=0.8.0b4 (from streamlit)\n",
            "  Downloading pydeck-0.9.1-py2.py3-none-any.whl.metadata (4.1 kB)\n",
            "Requirement already satisfied: tornado!=6.5.0,<7,>=6.0.3 in /usr/local/lib/python3.12/dist-packages (from streamlit) (6.4.2)\n",
            "Requirement already satisfied: PyYAML>=5.1 in /usr/local/lib/python3.12/dist-packages (from pyngrok) (6.0.2)\n",
            "Requirement already satisfied: jinja2 in /usr/local/lib/python3.12/dist-packages (from altair!=5.4.0,!=5.4.1,<6,>=4.0->streamlit) (3.1.6)\n",
            "Requirement already satisfied: jsonschema>=3.0 in /usr/local/lib/python3.12/dist-packages (from altair!=5.4.0,!=5.4.1,<6,>=4.0->streamlit) (4.25.1)\n",
            "Requirement already satisfied: narwhals>=1.14.2 in /usr/local/lib/python3.12/dist-packages (from altair!=5.4.0,!=5.4.1,<6,>=4.0->streamlit) (2.2.0)\n",
            "Requirement already satisfied: gitdb<5,>=4.0.1 in /usr/local/lib/python3.12/dist-packages (from gitpython!=3.1.19,<4,>=3.0.7->streamlit) (4.0.12)\n",
            "Requirement already satisfied: python-dateutil>=2.8.2 in /usr/local/lib/python3.12/dist-packages (from pandas<3,>=1.4.0->streamlit) (2.9.0.post0)\n",
            "Requirement already satisfied: pytz>=2020.1 in /usr/local/lib/python3.12/dist-packages (from pandas<3,>=1.4.0->streamlit) (2025.2)\n",
            "Requirement already satisfied: tzdata>=2022.7 in /usr/local/lib/python3.12/dist-packages (from pandas<3,>=1.4.0->streamlit) (2025.2)\n",
            "Requirement already satisfied: charset_normalizer<4,>=2 in /usr/local/lib/python3.12/dist-packages (from requests<3,>=2.27->streamlit) (3.4.3)\n",
            "Requirement already satisfied: idna<4,>=2.5 in /usr/local/lib/python3.12/dist-packages (from requests<3,>=2.27->streamlit) (3.10)\n",
            "Requirement already satisfied: urllib3<3,>=1.21.1 in /usr/local/lib/python3.12/dist-packages (from requests<3,>=2.27->streamlit) (2.5.0)\n",
            "Requirement already satisfied: certifi>=2017.4.17 in /usr/local/lib/python3.12/dist-packages (from requests<3,>=2.27->streamlit) (2025.8.3)\n",
            "Requirement already satisfied: smmap<6,>=3.0.1 in /usr/local/lib/python3.12/dist-packages (from gitdb<5,>=4.0.1->gitpython!=3.1.19,<4,>=3.0.7->streamlit) (5.0.2)\n",
            "Requirement already satisfied: MarkupSafe>=2.0 in /usr/local/lib/python3.12/dist-packages (from jinja2->altair!=5.4.0,!=5.4.1,<6,>=4.0->streamlit) (3.0.2)\n",
            "Requirement already satisfied: attrs>=22.2.0 in /usr/local/lib/python3.12/dist-packages (from jsonschema>=3.0->altair!=5.4.0,!=5.4.1,<6,>=4.0->streamlit) (25.3.0)\n",
            "Requirement already satisfied: jsonschema-specifications>=2023.03.6 in /usr/local/lib/python3.12/dist-packages (from jsonschema>=3.0->altair!=5.4.0,!=5.4.1,<6,>=4.0->streamlit) (2025.4.1)\n",
            "Requirement already satisfied: referencing>=0.28.4 in /usr/local/lib/python3.12/dist-packages (from jsonschema>=3.0->altair!=5.4.0,!=5.4.1,<6,>=4.0->streamlit) (0.36.2)\n",
            "Requirement already satisfied: rpds-py>=0.7.1 in /usr/local/lib/python3.12/dist-packages (from jsonschema>=3.0->altair!=5.4.0,!=5.4.1,<6,>=4.0->streamlit) (0.27.0)\n",
            "Requirement already satisfied: six>=1.5 in /usr/local/lib/python3.12/dist-packages (from python-dateutil>=2.8.2->pandas<3,>=1.4.0->streamlit) (1.17.0)\n",
            "Downloading streamlit-1.49.1-py3-none-any.whl (10.0 MB)\n",
            "\u001b[2K   \u001b[90m━━━━━━━━━━━━━━━━━━━━━━━━━━━━━━━━━━━━━━━━\u001b[0m \u001b[32m10.0/10.0 MB\u001b[0m \u001b[31m76.9 MB/s\u001b[0m eta \u001b[36m0:00:00\u001b[0m\n",
            "\u001b[?25hDownloading pyngrok-7.3.0-py3-none-any.whl (25 kB)\n",
            "Downloading pydeck-0.9.1-py2.py3-none-any.whl (6.9 MB)\n",
            "\u001b[2K   \u001b[90m━━━━━━━━━━━━━━━━━━━━━━━━━━━━━━━━━━━━━━━━\u001b[0m \u001b[32m6.9/6.9 MB\u001b[0m \u001b[31m97.0 MB/s\u001b[0m eta \u001b[36m0:00:00\u001b[0m\n",
            "\u001b[?25hInstalling collected packages: pyngrok, pydeck, streamlit\n",
            "Successfully installed pydeck-0.9.1 pyngrok-7.3.0 streamlit-1.49.1\n"
          ]
        }
      ]
    },
    {
      "cell_type": "code",
      "source": [
        "import joblib\n",
        "joblib.dump(rf, \"phishing_model.pkl\")\n"
      ],
      "metadata": {
        "colab": {
          "base_uri": "https://localhost:8080/"
        },
        "id": "dt8oAGfgxedr",
        "outputId": "faeaa98b-d6b4-4569-a78c-3d70a21489c2"
      },
      "execution_count": 8,
      "outputs": [
        {
          "output_type": "execute_result",
          "data": {
            "text/plain": [
              "['phishing_model.pkl']"
            ]
          },
          "metadata": {},
          "execution_count": 8
        }
      ]
    },
    {
      "cell_type": "code",
      "source": [
        "# feature_extractor.py\n",
        "import re\n",
        "import pandas as pd\n",
        "from urllib.parse import urlparse\n",
        "\n",
        "def extract_features(url):\n",
        "    features = {}\n",
        "    features[\"url_length\"] = len(url)\n",
        "    features[\"has_https\"] = 1 if url.startswith(\"https\") else 0\n",
        "    features[\"has_at_symbol\"] = 1 if \"@\" in url else 0\n",
        "    features[\"num_digits\"] = sum(c.isdigit() for c in url)\n",
        "    features[\"num_special_chars\"] = len(re.findall(r\"[-./]\", url))\n",
        "    return pd.DataFrame([features])\n"
      ],
      "metadata": {
        "id": "VyhxSGGZxqKG"
      },
      "execution_count": 9,
      "outputs": []
    },
    {
      "cell_type": "code",
      "source": [
        "import streamlit as st\n",
        "import joblib\n",
        "# from feature_extractor import extract_features\n",
        "\n",
        "# Load model\n",
        "model = joblib.load(\"phishing_model.pkl\")\n",
        "\n",
        "# Streamlit UI\n",
        "st.title(\"🔐 Phishing Website Detection App\")\n",
        "st.write(\"Enter a website URL below to check if it’s phishing or legitimate.\")\n",
        "\n",
        "# Input URL\n",
        "url_input = st.text_input(\"Website URL\")\n",
        "\n",
        "if st.button(\"Check Website\"):\n",
        "    if url_input:\n",
        "        # Define extract_features here or ensure it's accessible in the environment\n",
        "        # For now, I will assume the function is defined in the same notebook\n",
        "        # as the Streamlit app code, or you can paste the function definition\n",
        "        # here for a self-contained app.\n",
        "\n",
        "        # You can copy and paste the feature_extractor function here\n",
        "        # from the previous cell or ensure it's run before this cell.\n",
        "        def extract_features(url):\n",
        "            features = {}\n",
        "            # Original features from the dataset\n",
        "            features[\"Have_IP\"] = 1 if re.search(r'\\d{1,3}\\.\\d{1,3}\\.\\d{1,3}\\.\\d{1,3}', url) else 0\n",
        "            features[\"Have_At\"] = 1 if \"@\" in url else 0\n",
        "            features[\"URL_Length\"] = 1 if len(url) > 75 else 0 # Using 75 as a heuristic length threshold\n",
        "            url_parsed = urlparse(url)\n",
        "            features[\"URL_Depth\"] = url_parsed.path.count('/')\n",
        "            features[\"Redirection\"] = 1 if \"//\" in url_parsed.path else 0\n",
        "            features[\"https_Domain\"] = 1 if url_parsed.netloc.startswith(\"https\") else 0 # Checking if domain itself starts with https\n",
        "            features[\"TinyURL\"] = 1 if 'tinyurl' in url or 'bit.ly' in url else 0 # Common TinyURL services\n",
        "            features[\"Prefix/Suffix\"] = 1 if \"-\" in url_parsed.netloc else 0\n",
        "            # The following features require external checks and cannot be directly extracted from the URL string\n",
        "            # For demonstration purposes, I will assign default values.\n",
        "            features[\"DNS_Record\"] = 0 # Needs DNS lookup\n",
        "            features[\"Web_Traffic\"] = 1 # Needs external web traffic data\n",
        "            features[\"Domain_Age\"] = 0 # Needs domain registration info\n",
        "            features[\"Domain_End\"] = 0 # Needs domain expiration info\n",
        "            features[\"iFrame\"] = 0 # Needs website content analysis\n",
        "            features[\"Mouse_Over\"] = 0 # Needs website content analysis\n",
        "            features[\"Right_Click\"] = 0 # Needs website content analysis\n",
        "            features[\"Web_Forwards\"] = 0 # Needs website redirection analysis\n",
        "\n",
        "            # Ensure the order of features matches the training data\n",
        "            feature_order = [\n",
        "                \"Have_IP\", \"Have_At\", \"URL_Length\", \"URL_Depth\", \"Redirection\",\n",
        "                \"https_Domain\", \"TinyURL\", \"Prefix/Suffix\", \"DNS_Record\", \"Web_Traffic\",\n",
        "                \"Domain_Age\", \"Domain_End\", \"iFrame\", \"Mouse_Over\", \"Right_Click\",\n",
        "                \"Web_Forwards\"\n",
        "            ]\n",
        "            ordered_features = {k: features[k] for k in feature_order}\n",
        "\n",
        "            return pd.DataFrame([ordered_features])\n",
        "\n",
        "        features = extract_features(url_input)\n",
        "        prediction = model.predict(features)[0]\n",
        "        if prediction == 1:\n",
        "            st.error(\"🚨 Warning: This website is **Phishing**\")\n",
        "        else:\n",
        "            st.success(\"✅ Safe: This website is **Legitimate**\")\n",
        "    else:\n",
        "        st.warning(\"Please enter a URL\")"
      ],
      "metadata": {
        "colab": {
          "base_uri": "https://localhost:8080/"
        },
        "id": "xlJ_tvAhxvzp",
        "outputId": "ff6333aa-601f-476f-d3d2-bfba42ba2c55"
      },
      "execution_count": 10,
      "outputs": [
        {
          "output_type": "stream",
          "name": "stderr",
          "text": [
            "2025-08-30 11:10:06.848 WARNING streamlit.runtime.scriptrunner_utils.script_run_context: Thread 'MainThread': missing ScriptRunContext! This warning can be ignored when running in bare mode.\n",
            "2025-08-30 11:10:07.304 \n",
            "  \u001b[33m\u001b[1mWarning:\u001b[0m to view this Streamlit app on a browser, run it with the following\n",
            "  command:\n",
            "\n",
            "    streamlit run /usr/local/lib/python3.12/dist-packages/colab_kernel_launcher.py [ARGUMENTS]\n",
            "2025-08-30 11:10:07.314 Thread 'MainThread': missing ScriptRunContext! This warning can be ignored when running in bare mode.\n",
            "2025-08-30 11:10:07.329 Thread 'MainThread': missing ScriptRunContext! This warning can be ignored when running in bare mode.\n",
            "2025-08-30 11:10:07.334 Thread 'MainThread': missing ScriptRunContext! This warning can be ignored when running in bare mode.\n",
            "2025-08-30 11:10:07.338 Thread 'MainThread': missing ScriptRunContext! This warning can be ignored when running in bare mode.\n",
            "2025-08-30 11:10:07.344 Thread 'MainThread': missing ScriptRunContext! This warning can be ignored when running in bare mode.\n",
            "2025-08-30 11:10:07.345 Thread 'MainThread': missing ScriptRunContext! This warning can be ignored when running in bare mode.\n",
            "2025-08-30 11:10:07.348 Thread 'MainThread': missing ScriptRunContext! This warning can be ignored when running in bare mode.\n",
            "2025-08-30 11:10:07.353 Thread 'MainThread': missing ScriptRunContext! This warning can be ignored when running in bare mode.\n",
            "2025-08-30 11:10:07.356 Thread 'MainThread': missing ScriptRunContext! This warning can be ignored when running in bare mode.\n",
            "2025-08-30 11:10:07.359 Session state does not function when running a script without `streamlit run`\n",
            "2025-08-30 11:10:07.363 Thread 'MainThread': missing ScriptRunContext! This warning can be ignored when running in bare mode.\n",
            "2025-08-30 11:10:07.364 Thread 'MainThread': missing ScriptRunContext! This warning can be ignored when running in bare mode.\n",
            "2025-08-30 11:10:07.365 Thread 'MainThread': missing ScriptRunContext! This warning can be ignored when running in bare mode.\n",
            "2025-08-30 11:10:07.367 Thread 'MainThread': missing ScriptRunContext! This warning can be ignored when running in bare mode.\n",
            "2025-08-30 11:10:07.369 Thread 'MainThread': missing ScriptRunContext! This warning can be ignored when running in bare mode.\n",
            "2025-08-30 11:10:07.370 Thread 'MainThread': missing ScriptRunContext! This warning can be ignored when running in bare mode.\n",
            "2025-08-30 11:10:07.371 Thread 'MainThread': missing ScriptRunContext! This warning can be ignored when running in bare mode.\n",
            "2025-08-30 11:10:07.374 Thread 'MainThread': missing ScriptRunContext! This warning can be ignored when running in bare mode.\n",
            "2025-08-30 11:10:07.375 Thread 'MainThread': missing ScriptRunContext! This warning can be ignored when running in bare mode.\n"
          ]
        }
      ]
    },
    {
      "cell_type": "code",
      "metadata": {
        "id": "535b3535"
      },
      "source": [
        "import re\n",
        "import numpy as np\n",
        "\n",
        "def extract_features(url):\n",
        "    # Features must match the dataset column names\n",
        "    features = {\n",
        "        'Have_IP': 1 if re.search(r'\\d+\\.\\d+\\.\\d+\\.\\d+', url) else -1,\n",
        "        'Have_At': 1 if \"@\" in url else -1,\n",
        "        'URL_Length': 1 if len(url) < 54 else -1,\n",
        "        'URL_Depth': url.count('/'),\n",
        "        'Redirection': 1 if \"//\" in url[url.find(\"://\")+3:] else -1,\n",
        "        'https_Domain': 1 if \"https\" in url else -1,\n",
        "        'TinyURL': 1 if re.search(r\"bit\\.ly|goo\\.gl|tinyurl|t\\.co\", url) else -1,\n",
        "        'Prefix/Suffix': 1 if \"-\" in url else -1,\n",
        "        'DNS_Record': 1,  # Default to 1 (needs real DNS lookup for better accuracy)\n",
        "        'Web_Traffic': 1, # Placeholder (could integrate Alexa Rank API)\n",
        "        'Domain_Age': 1,  # Placeholder\n",
        "        'Domain_End': 1,  # Placeholder\n",
        "        'iFrame': 1,\n",
        "        'Mouse_Over': 1,\n",
        "        'Right_Click': 1,\n",
        "        'Web_Forwards': 1\n",
        "    }\n",
        "\n",
        "    return np.array(list(features.values())).reshape(1, -1)\n"
      ],
      "execution_count": 20,
      "outputs": []
    },
    {
      "cell_type": "code",
      "metadata": {
        "colab": {
          "base_uri": "https://localhost:8080/"
        },
        "id": "09ac70df",
        "outputId": "a6266082-8273-48e8-c2bd-4822f55306f8"
      },
      "source": [
        "%%writefile app.py\n",
        "import streamlit as st\n",
        "import joblib\n",
        "from feature_extractor import extract_features\n",
        "\n",
        "# Load model\n",
        "model = joblib.load(\"phishing_model.pkl\")\n",
        "\n",
        "# Streamlit UI\n",
        "st.title(\"🔐 Phishing Website Detection App\")\n",
        "st.write(\"Enter a website URL below to check if it’s phishing or legitimate.\")\n",
        "\n",
        "# Input URL\n",
        "url_input = st.text_input(\"Website URL\")\n",
        "\n",
        "if st.button(\"Check Website\"):\n",
        "    if url_input:\n",
        "        features = extract_features(url_input)\n",
        "        prediction = model.predict(features)[0]\n",
        "        if prediction == 1:\n",
        "            st.error(\"🚨 Warning: This website is **Phishing**\")\n",
        "        else:\n",
        "            st.success(\"✅ Safe: This website is **Legitimate**\")\n",
        "    else:\n",
        "        st.warning(\"Please enter a URL\")"
      ],
      "execution_count": 12,
      "outputs": [
        {
          "output_type": "stream",
          "name": "stdout",
          "text": [
            "Writing app.py\n"
          ]
        }
      ]
    },
    {
      "cell_type": "code",
      "source": [
        "url = input(\"Enter a website URL: \")\n",
        "features = extract_features(url)\n",
        "prediction = model.predict(features)[0]\n",
        "print(\"Prediction:\", \"Phishing 🚨\" if prediction == 1 else \"Legitimate ✅\")"
      ],
      "metadata": {
        "colab": {
          "base_uri": "https://localhost:8080/"
        },
        "id": "Oa_pl349rZKe",
        "outputId": "3306da1e-d8fc-4330-ee11-7003888ebdc5"
      },
      "execution_count": 22,
      "outputs": [
        {
          "output_type": "stream",
          "name": "stdout",
          "text": [
            "Enter a website URL: www.google.com\n",
            "Prediction: Legitimate ✅\n"
          ]
        },
        {
          "output_type": "stream",
          "name": "stderr",
          "text": [
            "/usr/local/lib/python3.12/dist-packages/sklearn/utils/validation.py:2739: UserWarning: X does not have valid feature names, but RandomForestClassifier was fitted with feature names\n",
            "  warnings.warn(\n"
          ]
        }
      ]
    },
    {
      "cell_type": "code",
      "source": [
        "url = input(\"Enter a website URL: \")\n",
        "features = extract_features(url)\n",
        "prediction = model.predict(features)[0]\n",
        "print(\"Prediction:\", \"Phishing 🚨\" if prediction == 1 else \"Legitimate ✅\")"
      ],
      "metadata": {
        "colab": {
          "base_uri": "https://localhost:8080/"
        },
        "id": "IirfIlQurZFc",
        "outputId": "492eaf45-b7f7-4dc3-e149-eca10de128d1"
      },
      "execution_count": 23,
      "outputs": [
        {
          "output_type": "stream",
          "name": "stdout",
          "text": [
            "Enter a website URL: http://login-paypal.verify-user-account.com\n",
            "Prediction: Phishing 🚨\n"
          ]
        },
        {
          "output_type": "stream",
          "name": "stderr",
          "text": [
            "/usr/local/lib/python3.12/dist-packages/sklearn/utils/validation.py:2739: UserWarning: X does not have valid feature names, but RandomForestClassifier was fitted with feature names\n",
            "  warnings.warn(\n"
          ]
        }
      ]
    },
    {
      "cell_type": "code",
      "source": [
        "url = input(\"Enter a website URL: \")\n",
        "features = extract_features(url)\n",
        "prediction = model.predict(features)[0]\n",
        "print(\"Prediction:\", \"Phishing 🚨\" if prediction == 1 else \"Legitimate ✅\")"
      ],
      "metadata": {
        "colab": {
          "base_uri": "https://localhost:8080/"
        },
        "id": "EcqvkO4zrZDZ",
        "outputId": "05431cbb-65ee-459b-a552-b1ebde5e5e40"
      },
      "execution_count": 24,
      "outputs": [
        {
          "output_type": "stream",
          "name": "stdout",
          "text": [
            "Enter a website URL: www.wikipedia.org\n",
            "Prediction: Legitimate ✅\n"
          ]
        },
        {
          "output_type": "stream",
          "name": "stderr",
          "text": [
            "/usr/local/lib/python3.12/dist-packages/sklearn/utils/validation.py:2739: UserWarning: X does not have valid feature names, but RandomForestClassifier was fitted with feature names\n",
            "  warnings.warn(\n"
          ]
        }
      ]
    },
    {
      "cell_type": "code",
      "source": [
        "url = input(\"Enter a website URL: \")\n",
        "features = extract_features(url)\n",
        "prediction = model.predict(features)[0]\n",
        "print(\"Prediction:\", \"Phishing 🚨\" if prediction == 1 else \"Legitimate ✅\")"
      ],
      "metadata": {
        "colab": {
          "base_uri": "https://localhost:8080/"
        },
        "id": "Yt9caWq9rZBA",
        "outputId": "6fbadee0-d1eb-47cc-948f-fb3db5803900"
      },
      "execution_count": 25,
      "outputs": [
        {
          "output_type": "stream",
          "name": "stdout",
          "text": [
            "Enter a website URL: http://ebay-account-security-check.freehost.com\n",
            "Prediction: Phishing 🚨\n"
          ]
        },
        {
          "output_type": "stream",
          "name": "stderr",
          "text": [
            "/usr/local/lib/python3.12/dist-packages/sklearn/utils/validation.py:2739: UserWarning: X does not have valid feature names, but RandomForestClassifier was fitted with feature names\n",
            "  warnings.warn(\n"
          ]
        }
      ]
    }
  ]
}